{
 "cells": [
  {
   "cell_type": "code",
   "execution_count": 1,
   "metadata": {},
   "outputs": [],
   "source": [
    "from sklearn.decomposition import PCA\n",
    "from matplotlib.image import imread\n",
    "import matplotlib.pyplot as plt\n",
    "import pandas as pd\n",
    "import scipy.io as sio\n",
    "from sklearn.preprocessing import normalize\n"
   ]
  },
  {
   "cell_type": "code",
   "execution_count": 2,
   "metadata": {},
   "outputs": [
    {
     "name": "stdout",
     "output_type": "stream",
     "text": [
      "            0           1           2           3           4          5     \\\n",
      "0     -37.866314  -45.866314  -53.866314  -51.866314  -40.866314 -33.866314   \n",
      "1       8.133686   -0.866314   -8.866314  -15.866314  -17.866314 -16.866314   \n",
      "2     -32.866314  -34.866314  -36.866314  -18.866314    6.133686  15.133686   \n",
      "3     -84.866314  -64.866314  -47.866314  -42.866314  -38.866314 -28.866314   \n",
      "4       2.133686    6.133686    5.133686    9.133686   10.133686  11.133686   \n",
      "...          ...         ...         ...         ...         ...        ...   \n",
      "4995   14.133686    9.133686   19.133686   18.133686   12.133686 -18.866314   \n",
      "4996  -61.866314  -64.866314  -64.866314  -68.866314  -71.866314 -74.866314   \n",
      "4997  -46.866314  -24.866314   -8.866314  -11.866314  -26.866314   3.133686   \n",
      "4998   19.133686   16.133686   14.133686   12.133686   10.133686  10.133686   \n",
      "4999 -108.866314 -106.866314 -102.866314 -103.866314 -101.866314 -97.866314   \n",
      "\n",
      "            6          7          8          9     ...       1014        1015  \\\n",
      "0     -47.866314 -37.866314 -22.866314  -7.866314  ... -91.866314 -113.866314   \n",
      "1     -15.866314 -21.866314 -42.866314 -28.866314  ... -47.866314  -54.866314   \n",
      "2      -1.866314 -31.866314  -1.866314  13.133686  ... -36.866314  -41.866314   \n",
      "3     -17.866314 -11.866314 -10.866314 -12.866314  ... -37.866314  -38.866314   \n",
      "4      11.133686  11.133686  12.133686  12.133686  ... -42.866314  -59.866314   \n",
      "...          ...        ...        ...        ...  ...        ...         ...   \n",
      "4995  -38.866314 -41.866314 -51.866314 -33.866314  ... -28.866314  -27.866314   \n",
      "4996  -72.866314 -72.866314 -71.866314 -72.866314  ...  26.133686   17.133686   \n",
      "4997   20.133686  17.133686  13.133686   5.133686  ... -10.866314   -9.866314   \n",
      "4998   12.133686  11.133686  14.133686  14.133686  ... -34.866314  -52.866314   \n",
      "4999 -101.866314 -88.866314 -50.866314 -56.866314  ...  -8.866314   -7.866314   \n",
      "\n",
      "            1016        1017       1018       1019        1020        1021  \\\n",
      "0    -123.866314 -102.866314 -84.866314 -94.866314  -99.866314 -110.866314   \n",
      "1     -54.866314  -59.866314 -74.866314 -86.866314  -70.866314  -34.866314   \n",
      "2     -46.866314  -51.866314 -73.866314 -96.866314 -105.866314 -110.866314   \n",
      "3     -41.866314  -45.866314 -48.866314 -55.866314  -56.866314  -56.866314   \n",
      "4     -72.866314  -70.866314 -68.866314 -56.866314  -30.866314   -9.866314   \n",
      "...          ...         ...        ...        ...         ...         ...   \n",
      "4995  -12.866314    8.133686  34.133686  67.133686   76.133686   56.133686   \n",
      "4996   14.133686   26.133686  37.133686  29.133686   28.133686   15.133686   \n",
      "4997   -7.866314   -4.866314  -3.866314   0.133686   53.133686   90.133686   \n",
      "4998  -68.866314  -65.866314 -47.866314 -44.866314  -38.866314  -38.866314   \n",
      "4999   -5.866314   -4.866314  -2.866314   4.133686   11.133686   17.133686   \n",
      "\n",
      "            1022        1023  \n",
      "0    -111.866314  -99.866314  \n",
      "1      -8.866314    0.133686  \n",
      "2    -111.866314 -111.866314  \n",
      "3     -57.866314  -53.866314  \n",
      "4       0.133686  -14.866314  \n",
      "...          ...         ...  \n",
      "4995   48.133686   57.133686  \n",
      "4996   10.133686   18.133686  \n",
      "4997   80.133686   59.133686  \n",
      "4998  -41.866314  -46.866314  \n",
      "4999   17.133686   18.133686  \n",
      "\n",
      "[5000 rows x 1024 columns]\n"
     ]
    }
   ],
   "source": [
    "X = sio.loadmat('ex7faces.mat')\n",
    "\n",
    "X= pd.DataFrame(X['X'])\n",
    "\n",
    "X_norm= normalize(X)\n",
    "print(X)"
   ]
  },
  {
   "cell_type": "code",
   "execution_count": 17,
   "metadata": {},
   "outputs": [],
   "source": [
    "pca= PCA(.99)\n",
    "lower_dimension_data= pca.fit_transform(X)\n"
   ]
  },
  {
   "cell_type": "code",
   "execution_count": 18,
   "metadata": {},
   "outputs": [],
   "source": [
    "approximation = pca.inverse_transform(lower_dimension_data)\n",
    "#Approximation is 5000x1024\n",
    "approximation.shape\n",
    "#Reshape approximation and X_norm to 5000x32x32 to display images\n",
    "approximation = approximation.reshape(-1,32,32)\n",
    "X_norm = X_norm.reshape(-1,32,32)"
   ]
  },
  {
   "cell_type": "code",
   "execution_count": 19,
   "metadata": {},
   "outputs": [
    {
     "data": {
      "image/png": "[encoded data removed]",
      "text/plain": [
       "<Figure size 576x576 with 6 Axes>"
      ]
     },
     "metadata": {
      "needs_background": "light"
     },
     "output_type": "display_data"
    }
   ],
   "source": [
    "for i in range(0,X_norm.shape[0]):\n",
    "    X_norm[i,] = X_norm[i,].T\n",
    "    approximation[i,] = approximation[i,].T\n",
    "fig4, axarr = plt.subplots(3,2,figsize=(8,8))\n",
    "axarr[0,0].imshow(X_norm[0,],cmap='gray')\n",
    "axarr[0,0].set_title('Original Image')\n",
    "axarr[0,0].axis('off')\n",
    "axarr[0,1].imshow(approximation[0,],cmap='gray')\n",
    "axarr[0,1].set_title('99% Variation')\n",
    "axarr[0,1].axis('off')\n",
    "axarr[1,0].imshow(X_norm[1,],cmap='gray')\n",
    "axarr[1,0].set_title('Original Image')\n",
    "axarr[1,0].axis('off')\n",
    "axarr[1,1].imshow(approximation[1,],cmap='gray')\n",
    "axarr[1,1].set_title('99% Variation')\n",
    "axarr[1,1].axis('off')\n",
    "axarr[2,0].imshow(X_norm[2,],cmap='gray')\n",
    "axarr[2,0].set_title('Original Image')\n",
    "axarr[2,0].axis('off')\n",
    "axarr[2,1].imshow(approximation[2,],cmap='gray')\n",
    "axarr[2,1].set_title('99% variation')\n",
    "axarr[2,1].axis('off')\n",
    "plt.show()"
   ]
  },
  {
   "cell_type": "code",
   "execution_count": null,
   "metadata": {},
   "outputs": [],
   "source": []
  },
  {
   "cell_type": "code",
   "execution_count": null,
   "metadata": {},
   "outputs": [],
   "source": []
  }
 ],
 "metadata": {
  "kernelspec": {
   "display_name": "Python 3",
   "language": "python",
   "name": "python3"
  },
  "language_info": {
   "codemirror_mode": {
    "name": "ipython",
    "version": 3
   },
   "file_extension": ".py",
   "mimetype": "text/x-python",
   "name": "python",
   "nbconvert_exporter": "python",
   "pygments_lexer": "ipython3",
   "version": "3.8.3"
  }
 },
 "nbformat": 4,
 "nbformat_minor": 4
}
